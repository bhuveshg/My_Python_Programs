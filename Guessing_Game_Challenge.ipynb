{
 "cells": [
  {
   "cell_type": "markdown",
   "id": "67ba7af7",
   "metadata": {},
   "source": [
    "# Guessing Game Challenge\n",
    "\n",
    "Let's use `while` loops to create a guessing game.\n",
    "\n",
    "The Challenge:\n",
    "\n",
    "Write a program that picks a random integer from 1 to 100, and has players guess the number. The rules are:\n",
    "\n",
    "1. If a player's guess is less than 1 or greater than 100, say \"OUT OF BOUNDS\"\n",
    "2. On a player's first turn, if their guess is\n",
    " * within 10 of the number, return \"WARM!\"\n",
    " * further than 10 away from the number, return \"COLD!\"\n",
    "3. On all subsequent turns, if a guess is \n",
    " * closer to the number than the previous guess return \"WARMER!\"\n",
    " * farther from the number than the previous guess, return \"COLDER!\"\n",
    "4. When the player's guess equals the number, tell them they've guessed correctly *and* how many guesses it took!\n",
    "\n",
    "You can try this from scratch, or follow the steps outlined below. A separate Solution notebook has been provided. Good luck!\n"
   ]
  },
  {
   "cell_type": "code",
   "execution_count": 43,
   "id": "a9515519",
   "metadata": {},
   "outputs": [],
   "source": [
    "\n",
    "from random import randint as r\n",
    "b=0\n",
    "a=r(1,100)"
   ]
  },
  {
   "cell_type": "code",
   "execution_count": 46,
   "id": "85b86e19",
   "metadata": {},
   "outputs": [
    {
     "name": "stdout",
     "output_type": "stream",
     "text": [
      "Please guess a number between 1 and 100: 123\n",
      "Out of Bound\n",
      "Please guess a number between 1 and 100: -23\n",
      "Out of Bound\n",
      "Please guess a number between 1 and 100: 987\n",
      "Out of Bound\n",
      "Please guess a number between 1 and 100: 29\n",
      "cold\n",
      "Please guess a number between 1 and 100: 45\n",
      "Colder\n",
      "Please guess a number between 1 and 100: 20\n",
      "Warmer\n",
      "Please guess a number between 1 and 100: 25\n",
      "Colder\n",
      "Please guess a number between 1 and 100: 14\n",
      "Warmer\n",
      "Please guess a number between 1 and 100: 16\n",
      "Warmer\n",
      "Please guess a number between 1 and 100: 17\n",
      "You won a million dollars in 10 trials\n"
     ]
    }
   ],
   "source": [
    "\n",
    "b= int(input(\"Please guess a number between 1 and 100: \"))\n",
    "l=[b]\n",
    "while(b>100 or b <1):\n",
    "    print('Out of Bound')\n",
    "    b= int(input(\"Please guess a number between 1 and 100: \"))\n",
    "    l.append(b)\n",
    "else:\n",
    "    if(a==b):\n",
    "        print('You won a million dolloars in {} trials'.format(len(l)))\n",
    "    else:\n",
    "        if (abs(b-a)<=10):\n",
    "                print ('warm')\n",
    "        else:\n",
    "                print('cold')\n",
    "        b= int(input(\"Please guess a number between 1 and 100: \"))\n",
    "        if(a==b):\n",
    "             print('You won a million dolloars in {} trials'.format(len(l)+1)) \n",
    "        else:\n",
    "            while(a!=b):\n",
    "                if(abs(b-a)<abs(l[-1]-a)):\n",
    "                    print('Warmer')\n",
    "                else:\n",
    "                    print(\"Colder\")\n",
    "                l.append(b)\n",
    "                b= int(input(\"Please guess a number between 1 and 100: \"))\n",
    "            else:\n",
    "                print('You won a million dollars in {} trials'.format(len(l)+1))\n",
    "\n",
    "\n",
    "\n",
    "\n",
    "\n",
    "\n"
   ]
  },
  {
   "cell_type": "code",
   "execution_count": null,
   "id": "9c55bc61",
   "metadata": {},
   "outputs": [],
   "source": []
  }
 ],
 "metadata": {
  "kernelspec": {
   "display_name": "Python 3 (ipykernel)",
   "language": "python",
   "name": "python3"
  },
  "language_info": {
   "codemirror_mode": {
    "name": "ipython",
    "version": 3
   },
   "file_extension": ".py",
   "mimetype": "text/x-python",
   "name": "python",
   "nbconvert_exporter": "python",
   "pygments_lexer": "ipython3",
   "version": "3.11.4"
  }
 },
 "nbformat": 4,
 "nbformat_minor": 5
}
