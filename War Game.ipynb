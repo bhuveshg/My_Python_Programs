{
 "cells": [
  {
   "cell_type": "markdown",
   "id": "0c8f7386",
   "metadata": {},
   "source": [
    "# War Game\n",
    "\n"
   ]
  },
  {
   "cell_type": "markdown",
   "id": "cd057660",
   "metadata": {},
   "source": [
    "We will use Python OOP to simulate a simplified version of the game war. Two players will each start off with half the deck, then they each remove a card, compare which card has the highest value, and the player with the higher card wins both cards. In case of draw additional cards has to be drawn by both players. The one who runs out of card looses the game."
   ]
  },
  {
   "cell_type": "markdown",
   "id": "50d0e511",
   "metadata": {},
   "source": [
    "Steps to Undertake:- \n",
    "1. Create Card Class\n",
    "2. Create Deck Class\n",
    "3. Create Player Class\n",
    "4. Game Logic"
   ]
  },
  {
   "cell_type": "markdown",
   "id": "11ebfac5",
   "metadata": {},
   "source": [
    "## Creating Card Class"
   ]
  },
  {
   "cell_type": "code",
   "execution_count": 12,
   "id": "85f363e4",
   "metadata": {},
   "outputs": [],
   "source": [
    "import random"
   ]
  },
  {
   "cell_type": "code",
   "execution_count": 4,
   "id": "39a7ca6c",
   "metadata": {},
   "outputs": [],
   "source": [
    "suits = ('Hearts', 'Diamonds', 'Spades', 'Clubs')\n",
    "ranks = ('Two', 'Three', 'Four', 'Five', 'Six', 'Seven', 'Eight', 'Nine', 'Ten', 'Jack', 'Queen', 'King', 'Ace')\n",
    "values = {'Two':2, 'Three':3, 'Four':4, 'Five':5, 'Six':6, 'Seven':7, 'Eight':8, \n",
    "            'Nine':9, 'Ten':10, 'Jack':11, 'Queen':12, 'King':13, 'Ace':14}"
   ]
  },
  {
   "cell_type": "code",
   "execution_count": 5,
   "id": "520b4f6f",
   "metadata": {},
   "outputs": [],
   "source": [
    "## Create the card class and assign attributes like suit,rank and value\n",
    "## Reminder to use Camel Casing in class name and not the usual snake casing.\n",
    "class Card():\n",
    "    \n",
    "    \n",
    "    def __init__(self, suit, rank):\n",
    "        self.suit=suit\n",
    "        self.rank=rank\n",
    "        self.value= values[rank]\n",
    "    \n",
    "    def __str__(self):\n",
    "        ## This is what will be printed whenever we would be printing the card object\n",
    "        return self.rank + ' of ' + self.suit\n",
    "        "
   ]
  },
  {
   "cell_type": "code",
   "execution_count": 6,
   "id": "01cca7e4",
   "metadata": {},
   "outputs": [],
   "source": [
    "seven_diamonds= Card('Diamonds','Seven')"
   ]
  },
  {
   "cell_type": "code",
   "execution_count": 8,
   "id": "418dce07",
   "metadata": {},
   "outputs": [
    {
     "name": "stdout",
     "output_type": "stream",
     "text": [
      "Seven of Diamonds\n"
     ]
    }
   ],
   "source": [
    "print(seven_diamonds)\n"
   ]
  },
  {
   "cell_type": "code",
   "execution_count": 81,
   "id": "1e0a4ee0",
   "metadata": {},
   "outputs": [
    {
     "data": {
      "text/plain": [
       "7"
      ]
     },
     "execution_count": 81,
     "metadata": {},
     "output_type": "execute_result"
    }
   ],
   "source": [
    "seven_diamonds.value"
   ]
  },
  {
   "cell_type": "markdown",
   "id": "cefa969e",
   "metadata": {},
   "source": [
    "## Creating Deck Class"
   ]
  },
  {
   "cell_type": "markdown",
   "id": "7d356948",
   "metadata": {},
   "source": [
    "Below are the list of things that we except the Deck Class to do:-\n",
    "1. Create a deck of 52 cards as soon as somebody instantiate it\n",
    "2. Shuffle Cards\n",
    "3. Get cards out from deck \n"
   ]
  },
  {
   "cell_type": "code",
   "execution_count": 44,
   "id": "1bd1dd03",
   "metadata": {},
   "outputs": [],
   "source": [
    "class Deck():\n",
    "    \n",
    "    def __init__(self):\n",
    "        self.all_cards=[]\n",
    "        for suit in suits:\n",
    "            for rank in ranks:\n",
    "                ## We are creating a list of cards object\n",
    "                ## Note that we are not using inheritance or polymorphism we are just using the object we created earlier to store it in list\n",
    "                self.all_cards.append(Card(suit,rank))\n",
    "    \n",
    "    def shuffle(self):\n",
    "        random.shuffle(self.all_cards)\n",
    "    \n",
    "    def get_one(self):\n",
    "        return self.all_cards.pop()\n",
    "    \n",
    "    def __str__(self):\n",
    "        return 'This Deck contains '+ str(len(self.all_cards)) + \" Cards\"\n",
    "        "
   ]
  },
  {
   "cell_type": "code",
   "execution_count": 45,
   "id": "d1760028",
   "metadata": {},
   "outputs": [],
   "source": [
    "new_deck= Deck()"
   ]
  },
  {
   "cell_type": "code",
   "execution_count": 46,
   "id": "12888e6a",
   "metadata": {},
   "outputs": [
    {
     "data": {
      "text/plain": [
       "<__main__.Deck at 0x2755db5c5d0>"
      ]
     },
     "execution_count": 46,
     "metadata": {},
     "output_type": "execute_result"
    }
   ],
   "source": [
    "new_deck"
   ]
  },
  {
   "cell_type": "code",
   "execution_count": 47,
   "id": "d0bad56b",
   "metadata": {},
   "outputs": [
    {
     "name": "stdout",
     "output_type": "stream",
     "text": [
      "Two of Hearts\n",
      "Three of Hearts\n",
      "Four of Hearts\n",
      "Five of Hearts\n",
      "Six of Hearts\n",
      "Seven of Hearts\n",
      "Eight of Hearts\n",
      "Nine of Hearts\n",
      "Ten of Hearts\n",
      "Jack of Hearts\n",
      "Queen of Hearts\n",
      "King of Hearts\n",
      "Ace of Hearts\n",
      "Two of Diamonds\n",
      "Three of Diamonds\n",
      "Four of Diamonds\n",
      "Five of Diamonds\n",
      "Six of Diamonds\n",
      "Seven of Diamonds\n",
      "Eight of Diamonds\n",
      "Nine of Diamonds\n",
      "Ten of Diamonds\n",
      "Jack of Diamonds\n",
      "Queen of Diamonds\n",
      "King of Diamonds\n",
      "Ace of Diamonds\n",
      "Two of Spades\n",
      "Three of Spades\n",
      "Four of Spades\n",
      "Five of Spades\n",
      "Six of Spades\n",
      "Seven of Spades\n",
      "Eight of Spades\n",
      "Nine of Spades\n",
      "Ten of Spades\n",
      "Jack of Spades\n",
      "Queen of Spades\n",
      "King of Spades\n",
      "Ace of Spades\n",
      "Two of Clubs\n",
      "Three of Clubs\n",
      "Four of Clubs\n",
      "Five of Clubs\n",
      "Six of Clubs\n",
      "Seven of Clubs\n",
      "Eight of Clubs\n",
      "Nine of Clubs\n",
      "Ten of Clubs\n",
      "Jack of Clubs\n",
      "Queen of Clubs\n",
      "King of Clubs\n",
      "Ace of Clubs\n",
      "52\n"
     ]
    }
   ],
   "source": [
    "## Let's check that if all the cards are created are not\n",
    "for card in new_deck.all_cards:\n",
    "    print(card)\n",
    "print(len(new_deck.all_cards))"
   ]
  },
  {
   "cell_type": "code",
   "execution_count": 48,
   "id": "7726f892",
   "metadata": {},
   "outputs": [],
   "source": [
    "new_deck.shuffle()"
   ]
  },
  {
   "cell_type": "code",
   "execution_count": 49,
   "id": "eca42d1a",
   "metadata": {},
   "outputs": [
    {
     "name": "stdout",
     "output_type": "stream",
     "text": [
      "Three of Clubs\n"
     ]
    }
   ],
   "source": [
    "print(new_deck.all_cards[0])"
   ]
  },
  {
   "cell_type": "code",
   "execution_count": 50,
   "id": "ddebefe0",
   "metadata": {},
   "outputs": [],
   "source": [
    "new_deck.shuffle()"
   ]
  },
  {
   "cell_type": "code",
   "execution_count": 51,
   "id": "d565a86a",
   "metadata": {},
   "outputs": [
    {
     "name": "stdout",
     "output_type": "stream",
     "text": [
      "Five of Diamonds\n"
     ]
    }
   ],
   "source": [
    "print(new_deck.all_cards[0])"
   ]
  },
  {
   "cell_type": "code",
   "execution_count": 52,
   "id": "48cd4347",
   "metadata": {},
   "outputs": [
    {
     "name": "stdout",
     "output_type": "stream",
     "text": [
      "Seven of Diamonds\n"
     ]
    }
   ],
   "source": [
    "print(new_deck.get_one())"
   ]
  },
  {
   "cell_type": "code",
   "execution_count": 53,
   "id": "9f3135a4",
   "metadata": {},
   "outputs": [
    {
     "data": {
      "text/plain": [
       "51"
      ]
     },
     "execution_count": 53,
     "metadata": {},
     "output_type": "execute_result"
    }
   ],
   "source": [
    "len(new_deck.all_cards)"
   ]
  },
  {
   "cell_type": "code",
   "execution_count": 54,
   "id": "4aa2336c",
   "metadata": {},
   "outputs": [
    {
     "name": "stdout",
     "output_type": "stream",
     "text": [
      "This Deck contains 51 Cards\n"
     ]
    }
   ],
   "source": [
    "print(new_deck)"
   ]
  },
  {
   "cell_type": "code",
   "execution_count": 40,
   "id": "c3223c39",
   "metadata": {},
   "outputs": [],
   "source": [
    "## Note that since we are poping out cards to get cards length decreases and this is what is desired."
   ]
  },
  {
   "cell_type": "markdown",
   "id": "04af7725",
   "metadata": {},
   "source": [
    "## Creating Player Class"
   ]
  },
  {
   "cell_type": "markdown",
   "id": "b3ef836f",
   "metadata": {},
   "source": [
    "Below are the list of things we expect a player class to do:\n",
    "1. Class should be able to hold the player current list of cards\n",
    "2. Player should be able to add and remove single card\n",
    "3. Player should be able to add and remove multiple cards\n",
    "\n",
    "Rule for removing and adding card:-\n",
    "Whenever we need to draw the card or remove we will be doing it from top &\n",
    "whenever we need to add card we will be adding them at bottom. To model this top and bottom we will interpret it as left and right of python list."
   ]
  },
  {
   "cell_type": "code",
   "execution_count": 74,
   "id": "98241a7c",
   "metadata": {},
   "outputs": [],
   "source": [
    "class Player():\n",
    "    \n",
    "    def __init__(self, name):\n",
    "        self.name=name\n",
    "        self.all_cards=[]\n",
    "    \n",
    "    def __str__(self):\n",
    "        return f'Player {self.name} has {len(self.all_cards)} Cards'\n",
    "    \n",
    "    def add_cards(self, new_cards):\n",
    "        if type(new_cards)==type([]):\n",
    "            self.all_cards.extend(new_cards)\n",
    "        else:\n",
    "            self.all_cards.append(new_cards)\n",
    "    \n",
    "    def remove_one(self):\n",
    "        return self.all_cards.pop(0)\n",
    "    \n",
    "    def remove_multi(self,n):\n",
    "        removed_cards=[]\n",
    "        for i in range(n):\n",
    "            removed_cards.append(self.all_cards.pop(0))\n",
    "        \n",
    "        return removed_cards\n",
    "        \n",
    "    \n",
    "    "
   ]
  },
  {
   "cell_type": "code",
   "execution_count": 75,
   "id": "a1131d4d",
   "metadata": {},
   "outputs": [],
   "source": [
    "player1= Player('Bhuvesh')"
   ]
  },
  {
   "cell_type": "code",
   "execution_count": 76,
   "id": "a07d8cf6",
   "metadata": {},
   "outputs": [
    {
     "name": "stdout",
     "output_type": "stream",
     "text": [
      "Player Bhuvesh has 0 Cards\n"
     ]
    }
   ],
   "source": [
    "print(player1)"
   ]
  },
  {
   "cell_type": "markdown",
   "id": "dccc219c",
   "metadata": {},
   "source": [
    "# Creating Game Logic"
   ]
  },
  {
   "cell_type": "markdown",
   "id": "a6c88f46",
   "metadata": {},
   "source": [
    "Game Logic Consist of Following Points:\n",
    "1. Game Involves Two Players and a Deck of Shuffled Cards\n",
    "2. Game will start with two player having equal no. of cards i.e. 26-26 cards\n",
    "3. Game is Divided into several rounds\n",
    "4. Each Round will involve two player putting their card on table represented by player_one_card and player_two_card respectively\n",
    "5. This situation indicates war and we will compare the value of 2 cards on table\n",
    "6. One with higher value wins the round and receive all the cards on table\n",
    "7. In case of Draw both the player draw  additional cards from top of their deck and put them aside on table and next round begins\n",
    "8. If player has not enough cards to play the draw or he is left with zero cards he looses\n"
   ]
  },
  {
   "cell_type": "code",
   "execution_count": 144,
   "id": "46814e5e",
   "metadata": {},
   "outputs": [],
   "source": [
    "## Creating 2 Players and Deck of Card and shuffling the deck.\n",
    "player1= Player('Neha')\n",
    "player2= Player('Bhuvesh')\n",
    "new_deck= Deck()\n",
    "new_deck.shuffle()"
   ]
  },
  {
   "cell_type": "code",
   "execution_count": 145,
   "id": "c0d2f04b",
   "metadata": {},
   "outputs": [
    {
     "name": "stdout",
     "output_type": "stream",
     "text": [
      "This Deck contains 52 Cards\n"
     ]
    }
   ],
   "source": [
    "## At this stage deck has 52 cards\n",
    "print(new_deck)"
   ]
  },
  {
   "cell_type": "code",
   "execution_count": 146,
   "id": "b9aebf90",
   "metadata": {},
   "outputs": [],
   "source": [
    "## Distributing the cards to two players\n",
    "\n",
    "new_deck.shuffle()\n",
    "try:\n",
    "    for i in range(26):\n",
    "        player1.add_cards(new_deck.get_one())\n",
    "        player2.add_cards(new_deck.get_one())\n",
    "except:\n",
    "    print('Deck Has No Card Left')"
   ]
  },
  {
   "cell_type": "code",
   "execution_count": 147,
   "id": "a2ad9124",
   "metadata": {},
   "outputs": [
    {
     "name": "stdout",
     "output_type": "stream",
     "text": [
      "This Deck contains 0 Cards\n",
      "Player Neha has 26 Cards\n",
      "Player Bhuvesh has 26 Cards\n"
     ]
    }
   ],
   "source": [
    "## Now deck is left with no card and the two player has 26-26 cards\n",
    "print(new_deck)\n",
    "print(player1)\n",
    "print(player2)"
   ]
  },
  {
   "cell_type": "code",
   "execution_count": 148,
   "id": "bbfcbfca",
   "metadata": {},
   "outputs": [
    {
     "name": "stdout",
     "output_type": "stream",
     "text": [
      "Round 1\n",
      "Round 2\n",
      "Round 3\n",
      "Round 4\n",
      "Round 5\n",
      "Round 6\n",
      "Round 7\n",
      "Round 8\n",
      "War\n",
      "War\n",
      "Round 9\n",
      "War\n",
      "Round 10\n",
      "Round 11\n",
      "Round 12\n",
      "Round 13\n",
      "Round 14\n",
      "Round 15\n",
      "Round 16\n",
      "Round 17\n",
      "Round 18\n",
      "Round 19\n",
      "Round 20\n",
      "Round 21\n",
      "Round 22\n",
      "Round 23\n",
      "Round 24\n",
      "Round 25\n",
      "Round 26\n",
      "Round 27\n",
      "Round 28\n",
      "Round 29\n",
      "Round 30\n",
      "Round 31\n",
      "Round 32\n",
      "Round 33\n",
      "Round 34\n",
      "Round 35\n",
      "Round 36\n",
      "Round 37\n",
      "Round 38\n",
      "Bhuvesh has won the game in 39 rounds and game witnessed 3 draws\n"
     ]
    }
   ],
   "source": [
    "## Now let's make 2 players play game with each other\n",
    "## Game is Divided into several rounds\n",
    "## Each Round will involve two player putting their card on table represented by player_one_card and player_two_card respectively\n",
    "## This situation indicates war and we will compare the value of 2 cards on table\n",
    "## One with higher value wins the round and receive all the cards on table\n",
    "## In case of Draw both the player draw  additional cards from top of their deck and put them aside on table and next round begins\n",
    "## If player has not enough cards to play the draw or he is left with zero cards he looses\n",
    "\n",
    "additional_cards=5\n",
    "round_count=1\n",
    "table=[]\n",
    "draw_count=0\n",
    "while (len(player1.all_cards)!=0 and len(player2.all_cards)!=0):\n",
    "    player_one_card = player1.remove_one()\n",
    "    player_two_card = player2.remove_one()\n",
    "    ## Appending these two cards on table list\n",
    "    table.append(player_one_card)\n",
    "    table.append(player_two_card)\n",
    "    if (player_one_card.value > player_two_card.value):\n",
    "        player1.all_cards.extend(table)\n",
    "        table=[]\n",
    "        print(f'Round {round_count}')\n",
    "        round_count+=1\n",
    "    elif (player_one_card.value < player_two_card.value):\n",
    "        player2.all_cards.extend(table)\n",
    "        table=[]\n",
    "        print(f'Round {round_count}')\n",
    "        round_count+=1\n",
    "    else:\n",
    "        ## writing code for war situation\n",
    "        print(\"War\")\n",
    "        draw_count+=1\n",
    "        if (len(player1.all_cards)<additional_cards or len(player2.all_cards)<additional_cards):\n",
    "            break\n",
    "        else:\n",
    "            table.extend(player1.remove_multi(additional_cards))\n",
    "            table.extend(player2.remove_multi(additional_cards))\n",
    "    \n",
    "\n",
    "## Announcing the Winner\n",
    "if (len(player1.all_cards)<additional_cards):\n",
    "    print (f'{player2.name} has won the game in {round_count} rounds and game witnessed {draw_count} draws')\n",
    "else:\n",
    "    print (f'{player1.name} has won the game in {round_count} turns and game witnessed {draw_count} draws')\n",
    "        \n",
    "\n",
    "\n",
    "     \n",
    "            \n"
   ]
  },
  {
   "cell_type": "code",
   "execution_count": 149,
   "id": "18f79678",
   "metadata": {},
   "outputs": [],
   "source": [
    "## We are done in wwriting the complete logic of game with minimal amount of code without compromising the understanding at all\n",
    "## Pro Tip:- Use Esc+F to find and replace...via this I can first use simple varible name like a and then replace it with actual meaning\n"
   ]
  },
  {
   "cell_type": "markdown",
   "id": "2dd8874c",
   "metadata": {},
   "source": [
    "# Thank You"
   ]
  },
  {
   "cell_type": "code",
   "execution_count": null,
   "id": "d5a8dec9",
   "metadata": {},
   "outputs": [],
   "source": []
  }
 ],
 "metadata": {
  "kernelspec": {
   "display_name": "Python 3 (ipykernel)",
   "language": "python",
   "name": "python3"
  },
  "language_info": {
   "codemirror_mode": {
    "name": "ipython",
    "version": 3
   },
   "file_extension": ".py",
   "mimetype": "text/x-python",
   "name": "python",
   "nbconvert_exporter": "python",
   "pygments_lexer": "ipython3",
   "version": "3.11.4"
  }
 },
 "nbformat": 4,
 "nbformat_minor": 5
}
